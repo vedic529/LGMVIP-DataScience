{
  "nbformat": 4,
  "nbformat_minor": 0,
  "metadata": {
    "colab": {
      "name": "Task-1: Stock Market Prediction And Forecasting Using Stacked LSTM (LGM)",
      "provenance": []
    },
    "kernelspec": {
      "name": "python3",
      "display_name": "Python 3"
    },
    "language_info": {
      "name": "python"
    }
  },
  "cells": [
    {
      "cell_type": "markdown",
      "metadata": {
        "id": "Msav9kZVUaYq"
      },
      "source": [
        "# Lets Grow More\n",
        "**DATA SCIENCE INTERSHIP(OCT-2021)**</BR>\n",
        "\n",
        "***AUTHOR:*** Vedic Yadav\n",
        "\n",
        "***TASK TITLE:***Stock Market Prediction And Forecasting Using Stacked LSTM</br>\n",
        "***PROBLEM STATEMENT:*** Predict the price of a stock \n",
        "\n",
        "Dataset Link: https://raw.githubusercontent.com/mwitiderrick/stockprice/master/NSE-TATAGLOBAL.csv\n",
        "\n",
        "</BR>Here, We will be using the dataset given above to predict the price of a stock using LSTM by following the steps mentioned below: -</BR>\n",
        "1. Collection of Data.\n",
        "2. Preprocessing of Data(Train and Test).\n",
        "3. Create an Stacked LSTM Model.\n",
        "4. Predict the test data and plot the output.\n",
        "5. Predict the stock price for future 30 days.\n"
      ]
    },
    {
      "cell_type": "markdown",
      "metadata": {
        "id": "H-SixPVbabki"
      },
      "source": [
        "# Collection of Data"
      ]
    },
    {
      "cell_type": "code",
      "metadata": {
        "id": "xNqjqiJmYbQJ"
      },
      "source": [
        "# Importing the necessary libraries\n",
        "import numpy as np\n",
        "import matplotlib.pyplot as plt\n",
        "import pandas as pd"
      ],
      "execution_count": 1,
      "outputs": []
    },
    {
      "cell_type": "code",
      "metadata": {
        "colab": {
          "base_uri": "https://localhost:8080/",
          "height": 204
        },
        "id": "Fqmf6BlMWlHG",
        "outputId": "7e5fdb33-3f22-4e03-c42d-7dd0af5ca2b6"
      },
      "source": [
        "# Loading the Dataset\n",
        "data = pd.read_csv(\"/content/NSE-TATAGLOBAL.csv\")\n",
        "data.head()"
      ],
      "execution_count": 2,
      "outputs": [
        {
          "output_type": "execute_result",
          "data": {
            "text/html": [
              "<div>\n",
              "<style scoped>\n",
              "    .dataframe tbody tr th:only-of-type {\n",
              "        vertical-align: middle;\n",
              "    }\n",
              "\n",
              "    .dataframe tbody tr th {\n",
              "        vertical-align: top;\n",
              "    }\n",
              "\n",
              "    .dataframe thead th {\n",
              "        text-align: right;\n",
              "    }\n",
              "</style>\n",
              "<table border=\"1\" class=\"dataframe\">\n",
              "  <thead>\n",
              "    <tr style=\"text-align: right;\">\n",
              "      <th></th>\n",
              "      <th>Date</th>\n",
              "      <th>Open</th>\n",
              "      <th>High</th>\n",
              "      <th>Low</th>\n",
              "      <th>Last</th>\n",
              "      <th>Close</th>\n",
              "      <th>Total Trade Quantity</th>\n",
              "      <th>Turnover (Lacs)</th>\n",
              "    </tr>\n",
              "  </thead>\n",
              "  <tbody>\n",
              "    <tr>\n",
              "      <th>0</th>\n",
              "      <td>2018-09-28</td>\n",
              "      <td>234.05</td>\n",
              "      <td>235.95</td>\n",
              "      <td>230.20</td>\n",
              "      <td>233.50</td>\n",
              "      <td>233.75</td>\n",
              "      <td>3069914</td>\n",
              "      <td>7162.35</td>\n",
              "    </tr>\n",
              "    <tr>\n",
              "      <th>1</th>\n",
              "      <td>2018-09-27</td>\n",
              "      <td>234.55</td>\n",
              "      <td>236.80</td>\n",
              "      <td>231.10</td>\n",
              "      <td>233.80</td>\n",
              "      <td>233.25</td>\n",
              "      <td>5082859</td>\n",
              "      <td>11859.95</td>\n",
              "    </tr>\n",
              "    <tr>\n",
              "      <th>2</th>\n",
              "      <td>2018-09-26</td>\n",
              "      <td>240.00</td>\n",
              "      <td>240.00</td>\n",
              "      <td>232.50</td>\n",
              "      <td>235.00</td>\n",
              "      <td>234.25</td>\n",
              "      <td>2240909</td>\n",
              "      <td>5248.60</td>\n",
              "    </tr>\n",
              "    <tr>\n",
              "      <th>3</th>\n",
              "      <td>2018-09-25</td>\n",
              "      <td>233.30</td>\n",
              "      <td>236.75</td>\n",
              "      <td>232.00</td>\n",
              "      <td>236.25</td>\n",
              "      <td>236.10</td>\n",
              "      <td>2349368</td>\n",
              "      <td>5503.90</td>\n",
              "    </tr>\n",
              "    <tr>\n",
              "      <th>4</th>\n",
              "      <td>2018-09-24</td>\n",
              "      <td>233.55</td>\n",
              "      <td>239.20</td>\n",
              "      <td>230.75</td>\n",
              "      <td>234.00</td>\n",
              "      <td>233.30</td>\n",
              "      <td>3423509</td>\n",
              "      <td>7999.55</td>\n",
              "    </tr>\n",
              "  </tbody>\n",
              "</table>\n",
              "</div>"
            ],
            "text/plain": [
              "         Date    Open    High  ...   Close  Total Trade Quantity  Turnover (Lacs)\n",
              "0  2018-09-28  234.05  235.95  ...  233.75               3069914          7162.35\n",
              "1  2018-09-27  234.55  236.80  ...  233.25               5082859         11859.95\n",
              "2  2018-09-26  240.00  240.00  ...  234.25               2240909          5248.60\n",
              "3  2018-09-25  233.30  236.75  ...  236.10               2349368          5503.90\n",
              "4  2018-09-24  233.55  239.20  ...  233.30               3423509          7999.55\n",
              "\n",
              "[5 rows x 8 columns]"
            ]
          },
          "metadata": {},
          "execution_count": 2
        }
      ]
    },
    {
      "cell_type": "code",
      "metadata": {
        "colab": {
          "base_uri": "https://localhost:8080/",
          "height": 204
        },
        "id": "sEW_OoeNZqkl",
        "outputId": "9f3f8236-86fd-4d02-efb5-1b5ac3fe3de5"
      },
      "source": [
        "data.tail()"
      ],
      "execution_count": 3,
      "outputs": [
        {
          "output_type": "execute_result",
          "data": {
            "text/html": [
              "<div>\n",
              "<style scoped>\n",
              "    .dataframe tbody tr th:only-of-type {\n",
              "        vertical-align: middle;\n",
              "    }\n",
              "\n",
              "    .dataframe tbody tr th {\n",
              "        vertical-align: top;\n",
              "    }\n",
              "\n",
              "    .dataframe thead th {\n",
              "        text-align: right;\n",
              "    }\n",
              "</style>\n",
              "<table border=\"1\" class=\"dataframe\">\n",
              "  <thead>\n",
              "    <tr style=\"text-align: right;\">\n",
              "      <th></th>\n",
              "      <th>Date</th>\n",
              "      <th>Open</th>\n",
              "      <th>High</th>\n",
              "      <th>Low</th>\n",
              "      <th>Last</th>\n",
              "      <th>Close</th>\n",
              "      <th>Total Trade Quantity</th>\n",
              "      <th>Turnover (Lacs)</th>\n",
              "    </tr>\n",
              "  </thead>\n",
              "  <tbody>\n",
              "    <tr>\n",
              "      <th>2030</th>\n",
              "      <td>2010-07-27</td>\n",
              "      <td>117.6</td>\n",
              "      <td>119.50</td>\n",
              "      <td>112.00</td>\n",
              "      <td>118.80</td>\n",
              "      <td>118.65</td>\n",
              "      <td>586100</td>\n",
              "      <td>694.98</td>\n",
              "    </tr>\n",
              "    <tr>\n",
              "      <th>2031</th>\n",
              "      <td>2010-07-26</td>\n",
              "      <td>120.1</td>\n",
              "      <td>121.00</td>\n",
              "      <td>117.10</td>\n",
              "      <td>117.10</td>\n",
              "      <td>117.60</td>\n",
              "      <td>658440</td>\n",
              "      <td>780.01</td>\n",
              "    </tr>\n",
              "    <tr>\n",
              "      <th>2032</th>\n",
              "      <td>2010-07-23</td>\n",
              "      <td>121.8</td>\n",
              "      <td>121.95</td>\n",
              "      <td>120.25</td>\n",
              "      <td>120.35</td>\n",
              "      <td>120.65</td>\n",
              "      <td>281312</td>\n",
              "      <td>340.31</td>\n",
              "    </tr>\n",
              "    <tr>\n",
              "      <th>2033</th>\n",
              "      <td>2010-07-22</td>\n",
              "      <td>120.3</td>\n",
              "      <td>122.00</td>\n",
              "      <td>120.25</td>\n",
              "      <td>120.75</td>\n",
              "      <td>120.90</td>\n",
              "      <td>293312</td>\n",
              "      <td>355.17</td>\n",
              "    </tr>\n",
              "    <tr>\n",
              "      <th>2034</th>\n",
              "      <td>2010-07-21</td>\n",
              "      <td>122.1</td>\n",
              "      <td>123.00</td>\n",
              "      <td>121.05</td>\n",
              "      <td>121.10</td>\n",
              "      <td>121.55</td>\n",
              "      <td>658666</td>\n",
              "      <td>803.56</td>\n",
              "    </tr>\n",
              "  </tbody>\n",
              "</table>\n",
              "</div>"
            ],
            "text/plain": [
              "            Date   Open    High  ...   Close  Total Trade Quantity  Turnover (Lacs)\n",
              "2030  2010-07-27  117.6  119.50  ...  118.65                586100           694.98\n",
              "2031  2010-07-26  120.1  121.00  ...  117.60                658440           780.01\n",
              "2032  2010-07-23  121.8  121.95  ...  120.65                281312           340.31\n",
              "2033  2010-07-22  120.3  122.00  ...  120.90                293312           355.17\n",
              "2034  2010-07-21  122.1  123.00  ...  121.55                658666           803.56\n",
              "\n",
              "[5 rows x 8 columns]"
            ]
          },
          "metadata": {},
          "execution_count": 3
        }
      ]
    },
    {
      "cell_type": "markdown",
      "metadata": {
        "id": "53gNW6BEY8J2"
      },
      "source": [
        "As we can see here, there are different columns for the stock information, from **2010-07-21** to **2018-09-28** but for our use, we will be dealing with the Open price of the stock on a particular day."
      ]
    },
    {
      "cell_type": "code",
      "metadata": {
        "colab": {
          "base_uri": "https://localhost:8080/"
        },
        "id": "kk48HBQSYh5s",
        "outputId": "bbb247e9-fbb3-4769-b407-3f68b3680c4a"
      },
      "source": [
        "df = data.reset_index()['Open']\n",
        "df.head()"
      ],
      "execution_count": 4,
      "outputs": [
        {
          "output_type": "execute_result",
          "data": {
            "text/plain": [
              "0    234.05\n",
              "1    234.55\n",
              "2    240.00\n",
              "3    233.30\n",
              "4    233.55\n",
              "Name: Open, dtype: float64"
            ]
          },
          "metadata": {},
          "execution_count": 4
        }
      ]
    },
    {
      "cell_type": "code",
      "metadata": {
        "colab": {
          "base_uri": "https://localhost:8080/"
        },
        "id": "h4WZkNZ8Zi3r",
        "outputId": "d7a0c41f-9186-40ab-9de2-7d1f6cdbbfc7"
      },
      "source": [
        "df.shape"
      ],
      "execution_count": 5,
      "outputs": [
        {
          "output_type": "execute_result",
          "data": {
            "text/plain": [
              "(2035,)"
            ]
          },
          "metadata": {},
          "execution_count": 5
        }
      ]
    },
    {
      "cell_type": "code",
      "metadata": {
        "colab": {
          "base_uri": "https://localhost:8080/",
          "height": 282
        },
        "id": "mvMg95kmaAdH",
        "outputId": "8eafec25-4961-46fd-e186-5c5d6e141a6e"
      },
      "source": [
        "import matplotlib.pyplot as plt\n",
        "plt.plot(df)"
      ],
      "execution_count": 6,
      "outputs": [
        {
          "output_type": "execute_result",
          "data": {
            "text/plain": [
              "[<matplotlib.lines.Line2D at 0x7fca95ada490>]"
            ]
          },
          "metadata": {},
          "execution_count": 6
        },
        {
          "output_type": "display_data",
          "data": {
            "image/png": "[encoded data removed]",
            "text/plain": [
              "<Figure size 432x288 with 1 Axes>"
            ]
          },
          "metadata": {
            "needs_background": "light"
          }
        }
      ]
    },
    {
      "cell_type": "markdown",
      "metadata": {
        "id": "dWohL77iaiQ9"
      },
      "source": [
        "Observing the performance of the stock over the span of 8 years we can conclude that the stock has not performed well and have depreciated the money invested. "
      ]
    },
    {
      "cell_type": "markdown",
      "metadata": {
        "id": "o-JzKW8Bdflz"
      },
      "source": [
        "# Preprocessing of Data(Train and Test)"
      ]
    },
    {
      "cell_type": "markdown",
      "metadata": {
        "id": "B5NiAQvBHgXm"
      },
      "source": [
        "As LSTMs are highly sensitive to their scales, it's a good practice to scale our data between 0 and 1 using MinMaxScaler.</br> NOTE: MinMaxScaler preserves the shape of the original distribution."
      ]
    },
    {
      "cell_type": "code",
      "metadata": {
        "id": "MjPrxrWkaMig"
      },
      "source": [
        "from sklearn.preprocessing import MinMaxScaler\n",
        "\n",
        "scaler = MinMaxScaler(feature_range=(0,1))\n",
        "df=scaler.fit_transform(np.array(df).reshape(-1,1))"
      ],
      "execution_count": 7,
      "outputs": []
    },
    {
      "cell_type": "code",
      "metadata": {
        "colab": {
          "base_uri": "https://localhost:8080/"
        },
        "id": "MCaXjWcmIZLE",
        "outputId": "ea66ddc2-9726-408c-e6c9-ea69866ca132"
      },
      "source": [
        "df"
      ],
      "execution_count": 8,
      "outputs": [
        {
          "output_type": "execute_result",
          "data": {
            "text/plain": [
              "array([[0.6202352 ],\n",
              "       [0.62226277],\n",
              "       [0.64436334],\n",
              "       ...,\n",
              "       [0.16504461],\n",
              "       [0.15896188],\n",
              "       [0.16626115]])"
            ]
          },
          "metadata": {},
          "execution_count": 8
        }
      ]
    },
    {
      "cell_type": "code",
      "metadata": {
        "id": "0srnqRd6I0UB"
      },
      "source": [
        "#splitting dataset into train and test split\n",
        "length = len(df)\n",
        "training_size=int(length*0.65) #65% training, 35% testing \n",
        "test_size=length-training_size\n",
        "train_data,test_data=df[0:training_size,:],df[training_size:length,:1]"
      ],
      "execution_count": 9,
      "outputs": []
    },
    {
      "cell_type": "code",
      "metadata": {
        "colab": {
          "base_uri": "https://localhost:8080/"
        },
        "id": "1LdLriCMKF8U",
        "outputId": "aa994937-1dd3-48a3-9a54-bee54b27d700"
      },
      "source": [
        "training_size,test_size"
      ],
      "execution_count": 10,
      "outputs": [
        {
          "output_type": "execute_result",
          "data": {
            "text/plain": [
              "(1322, 713)"
            ]
          },
          "metadata": {},
          "execution_count": 10
        }
      ]
    },
    {
      "cell_type": "code",
      "metadata": {
        "id": "znQM8YlmKITz"
      },
      "source": [
        "# convert an array of values into a dataset matrix\n",
        "\n",
        "def dataset(dataset, time_step=1):\n",
        "\tdataX, dataY = [], []\n",
        "\n",
        "\tfor i in range(len(dataset)-time_step-1):\n",
        "\t\ta = dataset[i:(i+time_step), 0]   ###i=0, 0,1,2,3-----99   100 \n",
        "\t\tdataX.append(a) # if steps = 100 then, 0-99 here \n",
        "\t\tdataY.append(dataset[i + time_step, 0]) # 100th element here as label\n",
        "  \n",
        "\treturn np.array(dataX), np.array(dataY)"
      ],
      "execution_count": 11,
      "outputs": []
    },
    {
      "cell_type": "code",
      "metadata": {
        "id": "pYPanauDKXCL"
      },
      "source": [
        "# reshape into X=t,t+1,t+2,t+3 and Y=t+4\n",
        "\n",
        "time_step = 100 # taking previous 100 elements in consideration.\n",
        "\n",
        "X_train, y_train = dataset(train_data, time_step)\n",
        "X_test, ytest = dataset(test_data, time_step)"
      ],
      "execution_count": 12,
      "outputs": []
    },
    {
      "cell_type": "code",
      "metadata": {
        "colab": {
          "base_uri": "https://localhost:8080/"
        },
        "id": "mUT4GfgmKX4A",
        "outputId": "327c9a89-fd59-4123-b2f0-febc717ac46f"
      },
      "source": [
        "print(X_train.shape), print(y_train.shape)"
      ],
      "execution_count": 13,
      "outputs": [
        {
          "output_type": "stream",
          "name": "stdout",
          "text": [
            "(1221, 100)\n",
            "(1221,)\n"
          ]
        },
        {
          "output_type": "execute_result",
          "data": {
            "text/plain": [
              "(None, None)"
            ]
          },
          "metadata": {},
          "execution_count": 13
        }
      ]
    },
    {
      "cell_type": "code",
      "metadata": {
        "colab": {
          "base_uri": "https://localhost:8080/"
        },
        "id": "ttoazMZ4Kb9N",
        "outputId": "67939e27-f4a3-440a-f41e-cd62709262d5"
      },
      "source": [
        "print(X_test.shape), print(ytest.shape)"
      ],
      "execution_count": 14,
      "outputs": [
        {
          "output_type": "stream",
          "name": "stdout",
          "text": [
            "(612, 100)\n",
            "(612,)\n"
          ]
        },
        {
          "output_type": "execute_result",
          "data": {
            "text/plain": [
              "(None, None)"
            ]
          },
          "metadata": {},
          "execution_count": 14
        }
      ]
    },
    {
      "cell_type": "markdown",
      "metadata": {
        "id": "b78D41TqRW3c"
      },
      "source": [
        "Before Implementing any type of LSTM model, we are required to convert our X_train,  and X_test into three dimensions"
      ]
    },
    {
      "cell_type": "code",
      "metadata": {
        "id": "2EZ05t-pKdjx"
      },
      "source": [
        "# reshape input to be [samples, time steps, features] which is required for LSTM as (X_train.shape[1],1) will be given as input to LSTM\n",
        "\n",
        "X_train =X_train.reshape(X_train.shape[0],X_train.shape[1] , 1)\n",
        "X_test = X_test.reshape(X_test.shape[0],X_test.shape[1] , 1)"
      ],
      "execution_count": 15,
      "outputs": []
    },
    {
      "cell_type": "markdown",
      "metadata": {
        "id": "Vxnt9Bj_SLH6"
      },
      "source": [
        "# Creating an Stacked LSTM Model.\n",
        "In this section we will be defining a model with 3 LSTMs stacked over each other."
      ]
    },
    {
      "cell_type": "code",
      "metadata": {
        "id": "CA-AlmISRzW8"
      },
      "source": [
        "# Importing the necessary libraries\n",
        "\n",
        "from tensorflow.keras.models import Sequential\n",
        "from tensorflow.keras.layers import Dense\n",
        "from tensorflow.keras.layers import LSTM"
      ],
      "execution_count": 16,
      "outputs": []
    },
    {
      "cell_type": "code",
      "metadata": {
        "id": "jI_Ha1zdSeAM"
      },
      "source": [
        "# defining the sequential model\n",
        "\n",
        "model=Sequential()\n",
        "\n",
        "model.add(LSTM(50,return_sequences=True,input_shape=(X_train.shape[1],1)))\n",
        "model.add(LSTM(50,return_sequences=True))\n",
        "model.add(LSTM(50))\n",
        "model.add(Dense(1))\n",
        "\n",
        "model.compile(loss='mean_squared_error', optimizer='adam')"
      ],
      "execution_count": 17,
      "outputs": []
    },
    {
      "cell_type": "code",
      "metadata": {
        "colab": {
          "base_uri": "https://localhost:8080/"
        },
        "id": "P2IIXC3fSohh",
        "outputId": "7ccb1307-aa9a-4279-ad5b-f5ccb9cf147e"
      },
      "source": [
        "model.summary()"
      ],
      "execution_count": 18,
      "outputs": [
        {
          "output_type": "stream",
          "name": "stdout",
          "text": [
            "Model: \"sequential\"\n",
            "_________________________________________________________________\n",
            "Layer (type)                 Output Shape              Param #   \n",
            "=================================================================\n",
            "lstm (LSTM)                  (None, 100, 50)           10400     \n",
            "_________________________________________________________________\n",
            "lstm_1 (LSTM)                (None, 100, 50)           20200     \n",
            "_________________________________________________________________\n",
            "lstm_2 (LSTM)                (None, 50)                20200     \n",
            "_________________________________________________________________\n",
            "dense (Dense)                (None, 1)                 51        \n",
            "=================================================================\n",
            "Total params: 50,851\n",
            "Trainable params: 50,851\n",
            "Non-trainable params: 0\n",
            "_________________________________________________________________\n"
          ]
        }
      ]
    },
    {
      "cell_type": "code",
      "metadata": {
        "colab": {
          "base_uri": "https://localhost:8080/"
        },
        "id": "3w04u2PrSthU",
        "outputId": "0833c0e9-aa00-4429-b3b3-68bdce1d3153"
      },
      "source": [
        "model.fit(X_train,y_train,validation_data=(X_test,ytest),epochs=100,batch_size=64,verbose=1)"
      ],
      "execution_count": 19,
      "outputs": [
        {
          "output_type": "stream",
          "name": "stdout",
          "text": [
            "Epoch 1/100\n",
            "20/20 [==============================] - 10s 253ms/step - loss: 0.0242 - val_loss: 0.0075\n",
            "Epoch 2/100\n",
            "20/20 [==============================] - 4s 191ms/step - loss: 0.0048 - val_loss: 0.0022\n",
            "Epoch 3/100\n",
            "20/20 [==============================] - 4s 190ms/step - loss: 0.0022 - val_loss: 0.0012\n",
            "Epoch 4/100\n",
            "20/20 [==============================] - 4s 192ms/step - loss: 0.0015 - val_loss: 0.0011\n",
            "Epoch 5/100\n",
            "20/20 [==============================] - 4s 189ms/step - loss: 0.0015 - val_loss: 0.0011\n",
            "Epoch 6/100\n",
            "20/20 [==============================] - 4s 190ms/step - loss: 0.0014 - val_loss: 0.0011\n",
            "Epoch 7/100\n",
            "20/20 [==============================] - 4s 189ms/step - loss: 0.0013 - val_loss: 0.0011\n",
            "Epoch 8/100\n",
            "20/20 [==============================] - 4s 187ms/step - loss: 0.0014 - val_loss: 0.0012\n",
            "Epoch 9/100\n",
            "20/20 [==============================] - 4s 191ms/step - loss: 0.0013 - val_loss: 0.0012\n",
            "Epoch 10/100\n",
            "20/20 [==============================] - 4s 187ms/step - loss: 0.0012 - val_loss: 8.5032e-04\n",
            "Epoch 11/100\n",
            "20/20 [==============================] - 4s 187ms/step - loss: 0.0012 - val_loss: 8.5969e-04\n",
            "Epoch 12/100\n",
            "20/20 [==============================] - 4s 189ms/step - loss: 0.0011 - val_loss: 7.6525e-04\n",
            "Epoch 13/100\n",
            "20/20 [==============================] - 4s 189ms/step - loss: 0.0012 - val_loss: 7.7368e-04\n",
            "Epoch 14/100\n",
            "20/20 [==============================] - 4s 189ms/step - loss: 0.0010 - val_loss: 8.4078e-04\n",
            "Epoch 15/100\n",
            "20/20 [==============================] - 4s 188ms/step - loss: 9.8291e-04 - val_loss: 7.7688e-04\n",
            "Epoch 16/100\n",
            "20/20 [==============================] - 4s 187ms/step - loss: 9.4993e-04 - val_loss: 7.5208e-04\n",
            "Epoch 17/100\n",
            "20/20 [==============================] - 4s 189ms/step - loss: 0.0011 - val_loss: 6.7699e-04\n",
            "Epoch 18/100\n",
            "20/20 [==============================] - 4s 187ms/step - loss: 0.0013 - val_loss: 8.1173e-04\n",
            "Epoch 19/100\n",
            "20/20 [==============================] - 4s 189ms/step - loss: 8.8336e-04 - val_loss: 8.3567e-04\n",
            "Epoch 20/100\n",
            "20/20 [==============================] - 4s 191ms/step - loss: 8.5140e-04 - val_loss: 7.7006e-04\n",
            "Epoch 21/100\n",
            "20/20 [==============================] - 4s 191ms/step - loss: 8.4740e-04 - val_loss: 8.3127e-04\n",
            "Epoch 22/100\n",
            "20/20 [==============================] - 4s 194ms/step - loss: 8.9622e-04 - val_loss: 6.7889e-04\n",
            "Epoch 23/100\n",
            "20/20 [==============================] - 4s 197ms/step - loss: 8.5384e-04 - val_loss: 9.9865e-04\n",
            "Epoch 24/100\n",
            "20/20 [==============================] - 4s 187ms/step - loss: 7.6596e-04 - val_loss: 8.3655e-04\n",
            "Epoch 25/100\n",
            "20/20 [==============================] - 4s 189ms/step - loss: 7.6043e-04 - val_loss: 6.5579e-04\n",
            "Epoch 26/100\n",
            "20/20 [==============================] - 4s 193ms/step - loss: 7.3435e-04 - val_loss: 6.6741e-04\n",
            "Epoch 27/100\n",
            "20/20 [==============================] - 4s 188ms/step - loss: 7.4794e-04 - val_loss: 6.6499e-04\n",
            "Epoch 28/100\n",
            "20/20 [==============================] - 4s 192ms/step - loss: 8.1844e-04 - val_loss: 6.1096e-04\n",
            "Epoch 29/100\n",
            "20/20 [==============================] - 4s 189ms/step - loss: 7.3902e-04 - val_loss: 5.9168e-04\n",
            "Epoch 30/100\n",
            "20/20 [==============================] - 4s 190ms/step - loss: 7.4607e-04 - val_loss: 8.1963e-04\n",
            "Epoch 31/100\n",
            "20/20 [==============================] - 4s 192ms/step - loss: 8.9958e-04 - val_loss: 7.6487e-04\n",
            "Epoch 32/100\n",
            "20/20 [==============================] - 4s 191ms/step - loss: 6.7478e-04 - val_loss: 7.2599e-04\n",
            "Epoch 33/100\n",
            "20/20 [==============================] - 4s 190ms/step - loss: 6.7974e-04 - val_loss: 6.0433e-04\n",
            "Epoch 34/100\n",
            "20/20 [==============================] - 4s 192ms/step - loss: 7.3530e-04 - val_loss: 6.1765e-04\n",
            "Epoch 35/100\n",
            "20/20 [==============================] - 4s 189ms/step - loss: 6.8248e-04 - val_loss: 8.8942e-04\n",
            "Epoch 36/100\n",
            "20/20 [==============================] - 4s 189ms/step - loss: 6.7466e-04 - val_loss: 6.7295e-04\n",
            "Epoch 37/100\n",
            "20/20 [==============================] - 4s 188ms/step - loss: 6.4738e-04 - val_loss: 8.2093e-04\n",
            "Epoch 38/100\n",
            "20/20 [==============================] - 4s 192ms/step - loss: 6.4184e-04 - val_loss: 5.7131e-04\n",
            "Epoch 39/100\n",
            "20/20 [==============================] - 4s 195ms/step - loss: 6.5421e-04 - val_loss: 5.4436e-04\n",
            "Epoch 40/100\n",
            "20/20 [==============================] - 4s 191ms/step - loss: 6.4414e-04 - val_loss: 8.3813e-04\n",
            "Epoch 41/100\n",
            "20/20 [==============================] - 4s 189ms/step - loss: 9.4228e-04 - val_loss: 7.6916e-04\n",
            "Epoch 42/100\n",
            "20/20 [==============================] - 4s 190ms/step - loss: 8.5870e-04 - val_loss: 6.1055e-04\n",
            "Epoch 43/100\n",
            "20/20 [==============================] - 4s 191ms/step - loss: 6.7728e-04 - val_loss: 5.5771e-04\n",
            "Epoch 44/100\n",
            "20/20 [==============================] - 4s 187ms/step - loss: 6.1329e-04 - val_loss: 7.2573e-04\n",
            "Epoch 45/100\n",
            "20/20 [==============================] - 4s 192ms/step - loss: 6.3690e-04 - val_loss: 7.3632e-04\n",
            "Epoch 46/100\n",
            "20/20 [==============================] - 4s 190ms/step - loss: 6.4952e-04 - val_loss: 5.3452e-04\n",
            "Epoch 47/100\n",
            "20/20 [==============================] - 4s 188ms/step - loss: 7.1512e-04 - val_loss: 4.7879e-04\n",
            "Epoch 48/100\n",
            "20/20 [==============================] - 4s 196ms/step - loss: 6.1753e-04 - val_loss: 5.9866e-04\n",
            "Epoch 49/100\n",
            "20/20 [==============================] - 4s 193ms/step - loss: 5.5233e-04 - val_loss: 6.1712e-04\n",
            "Epoch 50/100\n",
            "20/20 [==============================] - 4s 191ms/step - loss: 5.5879e-04 - val_loss: 7.7441e-04\n",
            "Epoch 51/100\n",
            "20/20 [==============================] - 4s 191ms/step - loss: 6.2048e-04 - val_loss: 5.6600e-04\n",
            "Epoch 52/100\n",
            "20/20 [==============================] - 4s 191ms/step - loss: 5.5974e-04 - val_loss: 4.8497e-04\n",
            "Epoch 53/100\n",
            "20/20 [==============================] - 4s 191ms/step - loss: 7.1042e-04 - val_loss: 4.3786e-04\n",
            "Epoch 54/100\n",
            "20/20 [==============================] - 4s 192ms/step - loss: 5.4761e-04 - val_loss: 5.7614e-04\n",
            "Epoch 55/100\n",
            "20/20 [==============================] - 4s 192ms/step - loss: 5.1326e-04 - val_loss: 7.0274e-04\n",
            "Epoch 56/100\n",
            "20/20 [==============================] - 4s 190ms/step - loss: 5.8577e-04 - val_loss: 4.7386e-04\n",
            "Epoch 57/100\n",
            "20/20 [==============================] - 4s 191ms/step - loss: 5.7164e-04 - val_loss: 5.3600e-04\n",
            "Epoch 58/100\n",
            "20/20 [==============================] - 4s 191ms/step - loss: 5.0866e-04 - val_loss: 5.6861e-04\n",
            "Epoch 59/100\n",
            "20/20 [==============================] - 4s 191ms/step - loss: 4.9088e-04 - val_loss: 5.5633e-04\n",
            "Epoch 60/100\n",
            "20/20 [==============================] - 4s 192ms/step - loss: 4.8520e-04 - val_loss: 4.3799e-04\n",
            "Epoch 61/100\n",
            "20/20 [==============================] - 4s 191ms/step - loss: 4.9540e-04 - val_loss: 4.8765e-04\n",
            "Epoch 62/100\n",
            "20/20 [==============================] - 4s 196ms/step - loss: 4.7595e-04 - val_loss: 3.6374e-04\n",
            "Epoch 63/100\n",
            "20/20 [==============================] - 4s 196ms/step - loss: 5.0334e-04 - val_loss: 4.9780e-04\n",
            "Epoch 64/100\n",
            "20/20 [==============================] - 4s 197ms/step - loss: 5.7255e-04 - val_loss: 4.4666e-04\n",
            "Epoch 65/100\n",
            "20/20 [==============================] - 4s 196ms/step - loss: 5.2202e-04 - val_loss: 4.1823e-04\n",
            "Epoch 66/100\n",
            "20/20 [==============================] - 4s 195ms/step - loss: 5.1299e-04 - val_loss: 3.8522e-04\n",
            "Epoch 67/100\n",
            "20/20 [==============================] - 4s 191ms/step - loss: 4.5139e-04 - val_loss: 4.7349e-04\n",
            "Epoch 68/100\n",
            "20/20 [==============================] - 4s 190ms/step - loss: 4.0968e-04 - val_loss: 4.3242e-04\n",
            "Epoch 69/100\n",
            "20/20 [==============================] - 4s 193ms/step - loss: 4.1058e-04 - val_loss: 4.6234e-04\n",
            "Epoch 70/100\n",
            "20/20 [==============================] - 4s 191ms/step - loss: 3.8485e-04 - val_loss: 4.1508e-04\n",
            "Epoch 71/100\n",
            "20/20 [==============================] - 4s 190ms/step - loss: 3.9936e-04 - val_loss: 4.9372e-04\n",
            "Epoch 72/100\n",
            "20/20 [==============================] - 4s 190ms/step - loss: 4.3761e-04 - val_loss: 4.3800e-04\n",
            "Epoch 73/100\n",
            "20/20 [==============================] - 4s 191ms/step - loss: 3.8221e-04 - val_loss: 3.0241e-04\n",
            "Epoch 74/100\n",
            "20/20 [==============================] - 4s 189ms/step - loss: 3.9781e-04 - val_loss: 4.3403e-04\n",
            "Epoch 75/100\n",
            "20/20 [==============================] - 4s 193ms/step - loss: 3.8070e-04 - val_loss: 3.2557e-04\n",
            "Epoch 76/100\n",
            "20/20 [==============================] - 4s 192ms/step - loss: 3.7130e-04 - val_loss: 3.0593e-04\n",
            "Epoch 77/100\n",
            "20/20 [==============================] - 4s 189ms/step - loss: 3.6680e-04 - val_loss: 3.0280e-04\n",
            "Epoch 78/100\n",
            "20/20 [==============================] - 4s 189ms/step - loss: 4.1722e-04 - val_loss: 5.1463e-04\n",
            "Epoch 79/100\n",
            "20/20 [==============================] - 4s 185ms/step - loss: 3.9318e-04 - val_loss: 3.4429e-04\n",
            "Epoch 80/100\n",
            "20/20 [==============================] - 4s 192ms/step - loss: 3.2952e-04 - val_loss: 3.0598e-04\n",
            "Epoch 81/100\n",
            "20/20 [==============================] - 4s 194ms/step - loss: 3.1767e-04 - val_loss: 2.6489e-04\n",
            "Epoch 82/100\n",
            "20/20 [==============================] - 4s 189ms/step - loss: 3.4230e-04 - val_loss: 3.5913e-04\n",
            "Epoch 83/100\n",
            "20/20 [==============================] - 4s 189ms/step - loss: 3.2549e-04 - val_loss: 2.8156e-04\n",
            "Epoch 84/100\n",
            "20/20 [==============================] - 4s 191ms/step - loss: 4.6932e-04 - val_loss: 2.6040e-04\n",
            "Epoch 85/100\n",
            "20/20 [==============================] - 4s 188ms/step - loss: 3.3542e-04 - val_loss: 2.9631e-04\n",
            "Epoch 86/100\n",
            "20/20 [==============================] - 4s 192ms/step - loss: 3.0625e-04 - val_loss: 2.3776e-04\n",
            "Epoch 87/100\n",
            "20/20 [==============================] - 4s 188ms/step - loss: 2.9250e-04 - val_loss: 3.2460e-04\n",
            "Epoch 88/100\n",
            "20/20 [==============================] - 4s 192ms/step - loss: 3.2250e-04 - val_loss: 2.7010e-04\n",
            "Epoch 89/100\n",
            "20/20 [==============================] - 4s 192ms/step - loss: 3.0346e-04 - val_loss: 3.5587e-04\n",
            "Epoch 90/100\n",
            "20/20 [==============================] - 4s 188ms/step - loss: 2.8908e-04 - val_loss: 2.2946e-04\n",
            "Epoch 91/100\n",
            "20/20 [==============================] - 4s 191ms/step - loss: 2.9114e-04 - val_loss: 4.1386e-04\n",
            "Epoch 92/100\n",
            "20/20 [==============================] - 4s 192ms/step - loss: 3.6304e-04 - val_loss: 3.0847e-04\n",
            "Epoch 93/100\n",
            "20/20 [==============================] - 4s 190ms/step - loss: 2.7485e-04 - val_loss: 2.2394e-04\n",
            "Epoch 94/100\n",
            "20/20 [==============================] - 4s 191ms/step - loss: 2.7070e-04 - val_loss: 2.2833e-04\n",
            "Epoch 95/100\n",
            "20/20 [==============================] - 4s 190ms/step - loss: 2.7290e-04 - val_loss: 2.8048e-04\n",
            "Epoch 96/100\n",
            "20/20 [==============================] - 4s 193ms/step - loss: 2.7246e-04 - val_loss: 2.3497e-04\n",
            "Epoch 97/100\n",
            "20/20 [==============================] - 4s 190ms/step - loss: 2.8032e-04 - val_loss: 3.2334e-04\n",
            "Epoch 98/100\n",
            "20/20 [==============================] - 4s 187ms/step - loss: 2.6354e-04 - val_loss: 2.6640e-04\n",
            "Epoch 99/100\n",
            "20/20 [==============================] - 4s 193ms/step - loss: 2.8385e-04 - val_loss: 2.1513e-04\n",
            "Epoch 100/100\n",
            "20/20 [==============================] - 4s 196ms/step - loss: 2.7708e-04 - val_loss: 2.0942e-04\n"
          ]
        },
        {
          "output_type": "execute_result",
          "data": {
            "text/plain": [
              "<keras.callbacks.History at 0x7fca382d71d0>"
            ]
          },
          "metadata": {},
          "execution_count": 19
        }
      ]
    },
    {
      "cell_type": "markdown",
      "metadata": {
        "id": "JD4ArqWB2HGy"
      },
      "source": [
        "# Predict the test data and plot the output."
      ]
    },
    {
      "cell_type": "code",
      "metadata": {
        "id": "MKfLxUx7S2Za"
      },
      "source": [
        "# Lets Do the prediction and check performance metrics\n",
        "\n",
        "train_predict=model.predict(X_train)\n",
        "test_predict=model.predict(X_test)"
      ],
      "execution_count": 20,
      "outputs": []
    },
    {
      "cell_type": "code",
      "metadata": {
        "id": "9IrjvV372MgL"
      },
      "source": [
        "# Transforming the results back to original scale\n",
        "\n",
        "train_predict=scaler.inverse_transform(train_predict)\n",
        "test_predict=scaler.inverse_transform(test_predict)"
      ],
      "execution_count": 21,
      "outputs": []
    },
    {
      "cell_type": "code",
      "metadata": {
        "colab": {
          "base_uri": "https://localhost:8080/"
        },
        "id": "AjHy6Vkp2TYl",
        "outputId": "fb237ea5-acc5-4964-bd6b-f52cbcf2b3f7"
      },
      "source": [
        "# Computing the RSME matrices\n",
        "\n",
        "import math\n",
        "from sklearn.metrics import mean_squared_error\n",
        "math.sqrt(mean_squared_error(y_train,train_predict))"
      ],
      "execution_count": 22,
      "outputs": [
        {
          "output_type": "execute_result",
          "data": {
            "text/plain": [
              "163.62617208149805"
            ]
          },
          "metadata": {},
          "execution_count": 22
        }
      ]
    },
    {
      "cell_type": "code",
      "metadata": {
        "colab": {
          "base_uri": "https://localhost:8080/"
        },
        "id": "vfCU08Fv2ZaR",
        "outputId": "fb0d121a-8cd5-49a1-828e-8de81c772c92"
      },
      "source": [
        "math.sqrt(mean_squared_error(ytest,test_predict))"
      ],
      "execution_count": 23,
      "outputs": [
        {
          "output_type": "execute_result",
          "data": {
            "text/plain": [
              "114.73521134669707"
            ]
          },
          "metadata": {},
          "execution_count": 23
        }
      ]
    },
    {
      "cell_type": "code",
      "metadata": {
        "colab": {
          "base_uri": "https://localhost:8080/",
          "height": 265
        },
        "id": "ngx5Vsft2b49",
        "outputId": "d7bd2878-9b09-46e3-b075-3235de71e2d6"
      },
      "source": [
        "# Plotting the results\n",
        "\n",
        "# shift train predictions for plotting\n",
        "look_back=100 #timestamp\n",
        "trainPredictPlot = np.empty_like(df)\n",
        "trainPredictPlot[:, :] = np.nan\n",
        "trainPredictPlot[look_back:len(train_predict)+look_back, :] = train_predict\n",
        "\n",
        "# shift test predictions for plotting\n",
        "testPredictPlot = np.empty_like(df)\n",
        "testPredictPlot[:, :] = np.nan\n",
        "testPredictPlot[len(train_predict)+(look_back*2)+1:len(df)-1, :] = test_predict\n",
        "\n",
        "# plotting the train_predict and test_predict on the same plot as true data.\n",
        "plt.plot(scaler.inverse_transform(df)) # to scale the data back to original scale.\n",
        "plt.plot(trainPredictPlot)\n",
        "plt.plot(testPredictPlot)\n",
        "plt.show()"
      ],
      "execution_count": 24,
      "outputs": [
        {
          "output_type": "display_data",
          "data": {
            "image/png": "[encoded data removed]",
            "text/plain": [
              "<Figure size 432x288 with 1 Axes>"
            ]
          },
          "metadata": {
            "needs_background": "light"
          }
        }
      ]
    },
    {
      "cell_type": "markdown",
      "metadata": {
        "id": "-WxFZNbi2000"
      },
      "source": [
        "In the plot shown above, the blue represents the actual data, whereas the orange part represents the training data, and green represents the predicted output for the test data."
      ]
    },
    {
      "cell_type": "markdown",
      "metadata": {
        "id": "2D2yETgU4asM"
      },
      "source": [
        "# Predict the stock price for future 30 days."
      ]
    },
    {
      "cell_type": "code",
      "metadata": {
        "colab": {
          "base_uri": "https://localhost:8080/"
        },
        "id": "Bdddl4vA4eqQ",
        "outputId": "560ddaec-51fd-4b21-9f99-c11352cf90cf"
      },
      "source": [
        "len(test_data)"
      ],
      "execution_count": 25,
      "outputs": [
        {
          "output_type": "execute_result",
          "data": {
            "text/plain": [
              "713"
            ]
          },
          "metadata": {},
          "execution_count": 25
        }
      ]
    },
    {
      "cell_type": "code",
      "metadata": {
        "colab": {
          "base_uri": "https://localhost:8080/"
        },
        "id": "z0c9dmPU2kpp",
        "outputId": "cffd21e0-f0ac-4dd1-d48b-b0af06d64d48"
      },
      "source": [
        "# Now as we would want to consider the previous 100 values for the prediction we will substract 100 from len(test_data)\n",
        "\n",
        "x_input=test_data[613:].reshape(1,-1)\n",
        "x_input.shape"
      ],
      "execution_count": 26,
      "outputs": [
        {
          "output_type": "execute_result",
          "data": {
            "text/plain": [
              "(1, 100)"
            ]
          },
          "metadata": {},
          "execution_count": 26
        }
      ]
    },
    {
      "cell_type": "code",
      "metadata": {
        "id": "nvs8gUoH4hz5"
      },
      "source": [
        "# Converting it into a list\n",
        "\n",
        "temp_input=list(x_input)\n",
        "temp_input=temp_input[0].tolist()"
      ],
      "execution_count": 27,
      "outputs": []
    },
    {
      "cell_type": "code",
      "metadata": {
        "colab": {
          "base_uri": "https://localhost:8080/"
        },
        "id": "-FbMWMuf4_7n",
        "outputId": "862ebe94-1008-4502-8c60-1ea7b0862e26"
      },
      "source": [
        "# demonstrate prediction for next 30 days\n",
        "from numpy import array\n",
        "\n",
        "lst_output=[]\n",
        "n_steps=100\n",
        "i=0\n",
        "while(i<30):\n",
        "    \n",
        "    if(len(temp_input)>100):\n",
        "        #print(temp_input)\n",
        "        x_input=np.array(temp_input[1:])\n",
        "        print(\"{} day input {}\".format(i,x_input))\n",
        "        x_input=x_input.reshape(1,-1)\n",
        "        x_input = x_input.reshape((1, n_steps, 1))\n",
        "        #print(x_input)\n",
        "        yhat = model.predict(x_input, verbose=0)\n",
        "        print(\"{} day output {}\".format(i,yhat))\n",
        "        temp_input.extend(yhat[0].tolist())\n",
        "        temp_input=temp_input[1:]\n",
        "        #print(temp_input)\n",
        "        lst_output.extend(yhat.tolist())\n",
        "        i=i+1\n",
        "    else:\n",
        "        x_input = x_input.reshape((1, n_steps,1))\n",
        "        yhat = model.predict(x_input, verbose=0)\n",
        "        print(yhat[0])\n",
        "        temp_input.extend(yhat[0].tolist())\n",
        "        print(len(temp_input))\n",
        "        lst_output.extend(yhat.tolist())\n",
        "        i=i+1\n",
        "    \n",
        "\n",
        "print(lst_output)"
      ],
      "execution_count": 28,
      "outputs": [
        {
          "output_type": "stream",
          "name": "stdout",
          "text": [
            "[0.1609668]\n",
            "101\n",
            "1 day input [0.13746959 0.13990268 0.13017032 0.14152474 0.14111922 0.13138686\n",
            " 0.12915653 0.13098135 0.1269262  0.15166261 0.15004055 0.14193025\n",
            " 0.16017843 0.15693431 0.16504461 0.1770073  0.18146796 0.18815896\n",
            " 0.20924574 0.19424169 0.18106245 0.18207624 0.1960665  0.17680454\n",
            " 0.18207624 0.18004866 0.18207624 0.18876723 0.19383617 0.19099757\n",
            " 0.19505272 0.19809408 0.20640714 0.19748581 0.19525547 0.20437956\n",
            " 0.19870235 0.21796431 0.21553122 0.20600162 0.21654501 0.21654501\n",
            " 0.2175588  0.19870235 0.19018654 0.17802109 0.175588   0.16301703\n",
            " 0.16707218 0.17112733 0.17639903 0.18349554 0.1717356  0.16423358\n",
            " 0.16991079 0.17619627 0.16788321 0.16909976 0.17396594 0.17741281\n",
            " 0.18268451 0.19221411 0.18896999 0.19018654 0.17396594 0.17092457\n",
            " 0.16788321 0.17477697 0.16443633 0.14557989 0.15287916 0.15369019\n",
            " 0.15044607 0.14152474 0.15145985 0.13341444 0.12530414 0.11719384\n",
            " 0.11780211 0.12489862 0.14132198 0.13098135 0.12935929 0.13240065\n",
            " 0.12895377 0.12530414 0.13381995 0.14557989 0.15166261 0.15085158\n",
            " 0.14679643 0.14355231 0.12733171 0.14963504 0.14801298 0.15815085\n",
            " 0.16504461 0.15896188 0.16626115 0.1609668 ]\n",
            "1 day output [[0.16069314]]\n",
            "2 day input [0.13990268 0.13017032 0.14152474 0.14111922 0.13138686 0.12915653\n",
            " 0.13098135 0.1269262  0.15166261 0.15004055 0.14193025 0.16017843\n",
            " 0.15693431 0.16504461 0.1770073  0.18146796 0.18815896 0.20924574\n",
            " 0.19424169 0.18106245 0.18207624 0.1960665  0.17680454 0.18207624\n",
            " 0.18004866 0.18207624 0.18876723 0.19383617 0.19099757 0.19505272\n",
            " 0.19809408 0.20640714 0.19748581 0.19525547 0.20437956 0.19870235\n",
            " 0.21796431 0.21553122 0.20600162 0.21654501 0.21654501 0.2175588\n",
            " 0.19870235 0.19018654 0.17802109 0.175588   0.16301703 0.16707218\n",
            " 0.17112733 0.17639903 0.18349554 0.1717356  0.16423358 0.16991079\n",
            " 0.17619627 0.16788321 0.16909976 0.17396594 0.17741281 0.18268451\n",
            " 0.19221411 0.18896999 0.19018654 0.17396594 0.17092457 0.16788321\n",
            " 0.17477697 0.16443633 0.14557989 0.15287916 0.15369019 0.15044607\n",
            " 0.14152474 0.15145985 0.13341444 0.12530414 0.11719384 0.11780211\n",
            " 0.12489862 0.14132198 0.13098135 0.12935929 0.13240065 0.12895377\n",
            " 0.12530414 0.13381995 0.14557989 0.15166261 0.15085158 0.14679643\n",
            " 0.14355231 0.12733171 0.14963504 0.14801298 0.15815085 0.16504461\n",
            " 0.15896188 0.16626115 0.1609668  0.16069314]\n",
            "2 day output [[0.15877879]]\n",
            "3 day input [0.13017032 0.14152474 0.14111922 0.13138686 0.12915653 0.13098135\n",
            " 0.1269262  0.15166261 0.15004055 0.14193025 0.16017843 0.15693431\n",
            " 0.16504461 0.1770073  0.18146796 0.18815896 0.20924574 0.19424169\n",
            " 0.18106245 0.18207624 0.1960665  0.17680454 0.18207624 0.18004866\n",
            " 0.18207624 0.18876723 0.19383617 0.19099757 0.19505272 0.19809408\n",
            " 0.20640714 0.19748581 0.19525547 0.20437956 0.19870235 0.21796431\n",
            " 0.21553122 0.20600162 0.21654501 0.21654501 0.2175588  0.19870235\n",
            " 0.19018654 0.17802109 0.175588   0.16301703 0.16707218 0.17112733\n",
            " 0.17639903 0.18349554 0.1717356  0.16423358 0.16991079 0.17619627\n",
            " 0.16788321 0.16909976 0.17396594 0.17741281 0.18268451 0.19221411\n",
            " 0.18896999 0.19018654 0.17396594 0.17092457 0.16788321 0.17477697\n",
            " 0.16443633 0.14557989 0.15287916 0.15369019 0.15044607 0.14152474\n",
            " 0.15145985 0.13341444 0.12530414 0.11719384 0.11780211 0.12489862\n",
            " 0.14132198 0.13098135 0.12935929 0.13240065 0.12895377 0.12530414\n",
            " 0.13381995 0.14557989 0.15166261 0.15085158 0.14679643 0.14355231\n",
            " 0.12733171 0.14963504 0.14801298 0.15815085 0.16504461 0.15896188\n",
            " 0.16626115 0.1609668  0.16069314 0.15877879]\n",
            "3 day output [[0.15624695]]\n",
            "4 day input [0.14152474 0.14111922 0.13138686 0.12915653 0.13098135 0.1269262\n",
            " 0.15166261 0.15004055 0.14193025 0.16017843 0.15693431 0.16504461\n",
            " 0.1770073  0.18146796 0.18815896 0.20924574 0.19424169 0.18106245\n",
            " 0.18207624 0.1960665  0.17680454 0.18207624 0.18004866 0.18207624\n",
            " 0.18876723 0.19383617 0.19099757 0.19505272 0.19809408 0.20640714\n",
            " 0.19748581 0.19525547 0.20437956 0.19870235 0.21796431 0.21553122\n",
            " 0.20600162 0.21654501 0.21654501 0.2175588  0.19870235 0.19018654\n",
            " 0.17802109 0.175588   0.16301703 0.16707218 0.17112733 0.17639903\n",
            " 0.18349554 0.1717356  0.16423358 0.16991079 0.17619627 0.16788321\n",
            " 0.16909976 0.17396594 0.17741281 0.18268451 0.19221411 0.18896999\n",
            " 0.19018654 0.17396594 0.17092457 0.16788321 0.17477697 0.16443633\n",
            " 0.14557989 0.15287916 0.15369019 0.15044607 0.14152474 0.15145985\n",
            " 0.13341444 0.12530414 0.11719384 0.11780211 0.12489862 0.14132198\n",
            " 0.13098135 0.12935929 0.13240065 0.12895377 0.12530414 0.13381995\n",
            " 0.14557989 0.15166261 0.15085158 0.14679643 0.14355231 0.12733171\n",
            " 0.14963504 0.14801298 0.15815085 0.16504461 0.15896188 0.16626115\n",
            " 0.1609668  0.16069314 0.15877879 0.15624695]\n",
            "4 day output [[0.15357609]]\n",
            "5 day input [0.14111922 0.13138686 0.12915653 0.13098135 0.1269262  0.15166261\n",
            " 0.15004055 0.14193025 0.16017843 0.15693431 0.16504461 0.1770073\n",
            " 0.18146796 0.18815896 0.20924574 0.19424169 0.18106245 0.18207624\n",
            " 0.1960665  0.17680454 0.18207624 0.18004866 0.18207624 0.18876723\n",
            " 0.19383617 0.19099757 0.19505272 0.19809408 0.20640714 0.19748581\n",
            " 0.19525547 0.20437956 0.19870235 0.21796431 0.21553122 0.20600162\n",
            " 0.21654501 0.21654501 0.2175588  0.19870235 0.19018654 0.17802109\n",
            " 0.175588   0.16301703 0.16707218 0.17112733 0.17639903 0.18349554\n",
            " 0.1717356  0.16423358 0.16991079 0.17619627 0.16788321 0.16909976\n",
            " 0.17396594 0.17741281 0.18268451 0.19221411 0.18896999 0.19018654\n",
            " 0.17396594 0.17092457 0.16788321 0.17477697 0.16443633 0.14557989\n",
            " 0.15287916 0.15369019 0.15044607 0.14152474 0.15145985 0.13341444\n",
            " 0.12530414 0.11719384 0.11780211 0.12489862 0.14132198 0.13098135\n",
            " 0.12935929 0.13240065 0.12895377 0.12530414 0.13381995 0.14557989\n",
            " 0.15166261 0.15085158 0.14679643 0.14355231 0.12733171 0.14963504\n",
            " 0.14801298 0.15815085 0.16504461 0.15896188 0.16626115 0.1609668\n",
            " 0.16069314 0.15877879 0.15624695 0.15357609]\n",
            "5 day output [[0.1509708]]\n",
            "6 day input [0.13138686 0.12915653 0.13098135 0.1269262  0.15166261 0.15004055\n",
            " 0.14193025 0.16017843 0.15693431 0.16504461 0.1770073  0.18146796\n",
            " 0.18815896 0.20924574 0.19424169 0.18106245 0.18207624 0.1960665\n",
            " 0.17680454 0.18207624 0.18004866 0.18207624 0.18876723 0.19383617\n",
            " 0.19099757 0.19505272 0.19809408 0.20640714 0.19748581 0.19525547\n",
            " 0.20437956 0.19870235 0.21796431 0.21553122 0.20600162 0.21654501\n",
            " 0.21654501 0.2175588  0.19870235 0.19018654 0.17802109 0.175588\n",
            " 0.16301703 0.16707218 0.17112733 0.17639903 0.18349554 0.1717356\n",
            " 0.16423358 0.16991079 0.17619627 0.16788321 0.16909976 0.17396594\n",
            " 0.17741281 0.18268451 0.19221411 0.18896999 0.19018654 0.17396594\n",
            " 0.17092457 0.16788321 0.17477697 0.16443633 0.14557989 0.15287916\n",
            " 0.15369019 0.15044607 0.14152474 0.15145985 0.13341444 0.12530414\n",
            " 0.11719384 0.11780211 0.12489862 0.14132198 0.13098135 0.12935929\n",
            " 0.13240065 0.12895377 0.12530414 0.13381995 0.14557989 0.15166261\n",
            " 0.15085158 0.14679643 0.14355231 0.12733171 0.14963504 0.14801298\n",
            " 0.15815085 0.16504461 0.15896188 0.16626115 0.1609668  0.16069314\n",
            " 0.15877879 0.15624695 0.15357609 0.1509708 ]\n",
            "6 day output [[0.14851777]]\n",
            "7 day input [0.12915653 0.13098135 0.1269262  0.15166261 0.15004055 0.14193025\n",
            " 0.16017843 0.15693431 0.16504461 0.1770073  0.18146796 0.18815896\n",
            " 0.20924574 0.19424169 0.18106245 0.18207624 0.1960665  0.17680454\n",
            " 0.18207624 0.18004866 0.18207624 0.18876723 0.19383617 0.19099757\n",
            " 0.19505272 0.19809408 0.20640714 0.19748581 0.19525547 0.20437956\n",
            " 0.19870235 0.21796431 0.21553122 0.20600162 0.21654501 0.21654501\n",
            " 0.2175588  0.19870235 0.19018654 0.17802109 0.175588   0.16301703\n",
            " 0.16707218 0.17112733 0.17639903 0.18349554 0.1717356  0.16423358\n",
            " 0.16991079 0.17619627 0.16788321 0.16909976 0.17396594 0.17741281\n",
            " 0.18268451 0.19221411 0.18896999 0.19018654 0.17396594 0.17092457\n",
            " 0.16788321 0.17477697 0.16443633 0.14557989 0.15287916 0.15369019\n",
            " 0.15044607 0.14152474 0.15145985 0.13341444 0.12530414 0.11719384\n",
            " 0.11780211 0.12489862 0.14132198 0.13098135 0.12935929 0.13240065\n",
            " 0.12895377 0.12530414 0.13381995 0.14557989 0.15166261 0.15085158\n",
            " 0.14679643 0.14355231 0.12733171 0.14963504 0.14801298 0.15815085\n",
            " 0.16504461 0.15896188 0.16626115 0.1609668  0.16069314 0.15877879\n",
            " 0.15624695 0.15357609 0.1509708  0.14851777]\n",
            "7 day output [[0.14625011]]\n",
            "8 day input [0.13098135 0.1269262  0.15166261 0.15004055 0.14193025 0.16017843\n",
            " 0.15693431 0.16504461 0.1770073  0.18146796 0.18815896 0.20924574\n",
            " 0.19424169 0.18106245 0.18207624 0.1960665  0.17680454 0.18207624\n",
            " 0.18004866 0.18207624 0.18876723 0.19383617 0.19099757 0.19505272\n",
            " 0.19809408 0.20640714 0.19748581 0.19525547 0.20437956 0.19870235\n",
            " 0.21796431 0.21553122 0.20600162 0.21654501 0.21654501 0.2175588\n",
            " 0.19870235 0.19018654 0.17802109 0.175588   0.16301703 0.16707218\n",
            " 0.17112733 0.17639903 0.18349554 0.1717356  0.16423358 0.16991079\n",
            " 0.17619627 0.16788321 0.16909976 0.17396594 0.17741281 0.18268451\n",
            " 0.19221411 0.18896999 0.19018654 0.17396594 0.17092457 0.16788321\n",
            " 0.17477697 0.16443633 0.14557989 0.15287916 0.15369019 0.15044607\n",
            " 0.14152474 0.15145985 0.13341444 0.12530414 0.11719384 0.11780211\n",
            " 0.12489862 0.14132198 0.13098135 0.12935929 0.13240065 0.12895377\n",
            " 0.12530414 0.13381995 0.14557989 0.15166261 0.15085158 0.14679643\n",
            " 0.14355231 0.12733171 0.14963504 0.14801298 0.15815085 0.16504461\n",
            " 0.15896188 0.16626115 0.1609668  0.16069314 0.15877879 0.15624695\n",
            " 0.15357609 0.1509708  0.14851777 0.14625011]\n",
            "8 day output [[0.14417247]]\n",
            "9 day input [0.1269262  0.15166261 0.15004055 0.14193025 0.16017843 0.15693431\n",
            " 0.16504461 0.1770073  0.18146796 0.18815896 0.20924574 0.19424169\n",
            " 0.18106245 0.18207624 0.1960665  0.17680454 0.18207624 0.18004866\n",
            " 0.18207624 0.18876723 0.19383617 0.19099757 0.19505272 0.19809408\n",
            " 0.20640714 0.19748581 0.19525547 0.20437956 0.19870235 0.21796431\n",
            " 0.21553122 0.20600162 0.21654501 0.21654501 0.2175588  0.19870235\n",
            " 0.19018654 0.17802109 0.175588   0.16301703 0.16707218 0.17112733\n",
            " 0.17639903 0.18349554 0.1717356  0.16423358 0.16991079 0.17619627\n",
            " 0.16788321 0.16909976 0.17396594 0.17741281 0.18268451 0.19221411\n",
            " 0.18896999 0.19018654 0.17396594 0.17092457 0.16788321 0.17477697\n",
            " 0.16443633 0.14557989 0.15287916 0.15369019 0.15044607 0.14152474\n",
            " 0.15145985 0.13341444 0.12530414 0.11719384 0.11780211 0.12489862\n",
            " 0.14132198 0.13098135 0.12935929 0.13240065 0.12895377 0.12530414\n",
            " 0.13381995 0.14557989 0.15166261 0.15085158 0.14679643 0.14355231\n",
            " 0.12733171 0.14963504 0.14801298 0.15815085 0.16504461 0.15896188\n",
            " 0.16626115 0.1609668  0.16069314 0.15877879 0.15624695 0.15357609\n",
            " 0.1509708  0.14851777 0.14625011 0.14417247]\n",
            "9 day output [[0.14227292]]\n",
            "10 day input [0.15166261 0.15004055 0.14193025 0.16017843 0.15693431 0.16504461\n",
            " 0.1770073  0.18146796 0.18815896 0.20924574 0.19424169 0.18106245\n",
            " 0.18207624 0.1960665  0.17680454 0.18207624 0.18004866 0.18207624\n",
            " 0.18876723 0.19383617 0.19099757 0.19505272 0.19809408 0.20640714\n",
            " 0.19748581 0.19525547 0.20437956 0.19870235 0.21796431 0.21553122\n",
            " 0.20600162 0.21654501 0.21654501 0.2175588  0.19870235 0.19018654\n",
            " 0.17802109 0.175588   0.16301703 0.16707218 0.17112733 0.17639903\n",
            " 0.18349554 0.1717356  0.16423358 0.16991079 0.17619627 0.16788321\n",
            " 0.16909976 0.17396594 0.17741281 0.18268451 0.19221411 0.18896999\n",
            " 0.19018654 0.17396594 0.17092457 0.16788321 0.17477697 0.16443633\n",
            " 0.14557989 0.15287916 0.15369019 0.15044607 0.14152474 0.15145985\n",
            " 0.13341444 0.12530414 0.11719384 0.11780211 0.12489862 0.14132198\n",
            " 0.13098135 0.12935929 0.13240065 0.12895377 0.12530414 0.13381995\n",
            " 0.14557989 0.15166261 0.15085158 0.14679643 0.14355231 0.12733171\n",
            " 0.14963504 0.14801298 0.15815085 0.16504461 0.15896188 0.16626115\n",
            " 0.1609668  0.16069314 0.15877879 0.15624695 0.15357609 0.1509708\n",
            " 0.14851777 0.14625011 0.14417247 0.14227292]\n",
            "10 day output [[0.14053117]]\n",
            "11 day input [0.15004055 0.14193025 0.16017843 0.15693431 0.16504461 0.1770073\n",
            " 0.18146796 0.18815896 0.20924574 0.19424169 0.18106245 0.18207624\n",
            " 0.1960665  0.17680454 0.18207624 0.18004866 0.18207624 0.18876723\n",
            " 0.19383617 0.19099757 0.19505272 0.19809408 0.20640714 0.19748581\n",
            " 0.19525547 0.20437956 0.19870235 0.21796431 0.21553122 0.20600162\n",
            " 0.21654501 0.21654501 0.2175588  0.19870235 0.19018654 0.17802109\n",
            " 0.175588   0.16301703 0.16707218 0.17112733 0.17639903 0.18349554\n",
            " 0.1717356  0.16423358 0.16991079 0.17619627 0.16788321 0.16909976\n",
            " 0.17396594 0.17741281 0.18268451 0.19221411 0.18896999 0.19018654\n",
            " 0.17396594 0.17092457 0.16788321 0.17477697 0.16443633 0.14557989\n",
            " 0.15287916 0.15369019 0.15044607 0.14152474 0.15145985 0.13341444\n",
            " 0.12530414 0.11719384 0.11780211 0.12489862 0.14132198 0.13098135\n",
            " 0.12935929 0.13240065 0.12895377 0.12530414 0.13381995 0.14557989\n",
            " 0.15166261 0.15085158 0.14679643 0.14355231 0.12733171 0.14963504\n",
            " 0.14801298 0.15815085 0.16504461 0.15896188 0.16626115 0.1609668\n",
            " 0.16069314 0.15877879 0.15624695 0.15357609 0.1509708  0.14851777\n",
            " 0.14625011 0.14417247 0.14227292 0.14053117]\n",
            "11 day output [[0.13892445]]\n",
            "12 day input [0.14193025 0.16017843 0.15693431 0.16504461 0.1770073  0.18146796\n",
            " 0.18815896 0.20924574 0.19424169 0.18106245 0.18207624 0.1960665\n",
            " 0.17680454 0.18207624 0.18004866 0.18207624 0.18876723 0.19383617\n",
            " 0.19099757 0.19505272 0.19809408 0.20640714 0.19748581 0.19525547\n",
            " 0.20437956 0.19870235 0.21796431 0.21553122 0.20600162 0.21654501\n",
            " 0.21654501 0.2175588  0.19870235 0.19018654 0.17802109 0.175588\n",
            " 0.16301703 0.16707218 0.17112733 0.17639903 0.18349554 0.1717356\n",
            " 0.16423358 0.16991079 0.17619627 0.16788321 0.16909976 0.17396594\n",
            " 0.17741281 0.18268451 0.19221411 0.18896999 0.19018654 0.17396594\n",
            " 0.17092457 0.16788321 0.17477697 0.16443633 0.14557989 0.15287916\n",
            " 0.15369019 0.15044607 0.14152474 0.15145985 0.13341444 0.12530414\n",
            " 0.11719384 0.11780211 0.12489862 0.14132198 0.13098135 0.12935929\n",
            " 0.13240065 0.12895377 0.12530414 0.13381995 0.14557989 0.15166261\n",
            " 0.15085158 0.14679643 0.14355231 0.12733171 0.14963504 0.14801298\n",
            " 0.15815085 0.16504461 0.15896188 0.16626115 0.1609668  0.16069314\n",
            " 0.15877879 0.15624695 0.15357609 0.1509708  0.14851777 0.14625011\n",
            " 0.14417247 0.14227292 0.14053117 0.13892445]\n",
            "12 day output [[0.13743143]]\n",
            "13 day input [0.16017843 0.15693431 0.16504461 0.1770073  0.18146796 0.18815896\n",
            " 0.20924574 0.19424169 0.18106245 0.18207624 0.1960665  0.17680454\n",
            " 0.18207624 0.18004866 0.18207624 0.18876723 0.19383617 0.19099757\n",
            " 0.19505272 0.19809408 0.20640714 0.19748581 0.19525547 0.20437956\n",
            " 0.19870235 0.21796431 0.21553122 0.20600162 0.21654501 0.21654501\n",
            " 0.2175588  0.19870235 0.19018654 0.17802109 0.175588   0.16301703\n",
            " 0.16707218 0.17112733 0.17639903 0.18349554 0.1717356  0.16423358\n",
            " 0.16991079 0.17619627 0.16788321 0.16909976 0.17396594 0.17741281\n",
            " 0.18268451 0.19221411 0.18896999 0.19018654 0.17396594 0.17092457\n",
            " 0.16788321 0.17477697 0.16443633 0.14557989 0.15287916 0.15369019\n",
            " 0.15044607 0.14152474 0.15145985 0.13341444 0.12530414 0.11719384\n",
            " 0.11780211 0.12489862 0.14132198 0.13098135 0.12935929 0.13240065\n",
            " 0.12895377 0.12530414 0.13381995 0.14557989 0.15166261 0.15085158\n",
            " 0.14679643 0.14355231 0.12733171 0.14963504 0.14801298 0.15815085\n",
            " 0.16504461 0.15896188 0.16626115 0.1609668  0.16069314 0.15877879\n",
            " 0.15624695 0.15357609 0.1509708  0.14851777 0.14625011 0.14417247\n",
            " 0.14227292 0.14053117 0.13892445 0.13743143]\n",
            "13 day output [[0.13603434]]\n",
            "14 day input [0.15693431 0.16504461 0.1770073  0.18146796 0.18815896 0.20924574\n",
            " 0.19424169 0.18106245 0.18207624 0.1960665  0.17680454 0.18207624\n",
            " 0.18004866 0.18207624 0.18876723 0.19383617 0.19099757 0.19505272\n",
            " 0.19809408 0.20640714 0.19748581 0.19525547 0.20437956 0.19870235\n",
            " 0.21796431 0.21553122 0.20600162 0.21654501 0.21654501 0.2175588\n",
            " 0.19870235 0.19018654 0.17802109 0.175588   0.16301703 0.16707218\n",
            " 0.17112733 0.17639903 0.18349554 0.1717356  0.16423358 0.16991079\n",
            " 0.17619627 0.16788321 0.16909976 0.17396594 0.17741281 0.18268451\n",
            " 0.19221411 0.18896999 0.19018654 0.17396594 0.17092457 0.16788321\n",
            " 0.17477697 0.16443633 0.14557989 0.15287916 0.15369019 0.15044607\n",
            " 0.14152474 0.15145985 0.13341444 0.12530414 0.11719384 0.11780211\n",
            " 0.12489862 0.14132198 0.13098135 0.12935929 0.13240065 0.12895377\n",
            " 0.12530414 0.13381995 0.14557989 0.15166261 0.15085158 0.14679643\n",
            " 0.14355231 0.12733171 0.14963504 0.14801298 0.15815085 0.16504461\n",
            " 0.15896188 0.16626115 0.1609668  0.16069314 0.15877879 0.15624695\n",
            " 0.15357609 0.1509708  0.14851777 0.14625011 0.14417247 0.14227292\n",
            " 0.14053117 0.13892445 0.13743143 0.13603434]\n",
            "14 day output [[0.13471992]]\n",
            "15 day input [0.16504461 0.1770073  0.18146796 0.18815896 0.20924574 0.19424169\n",
            " 0.18106245 0.18207624 0.1960665  0.17680454 0.18207624 0.18004866\n",
            " 0.18207624 0.18876723 0.19383617 0.19099757 0.19505272 0.19809408\n",
            " 0.20640714 0.19748581 0.19525547 0.20437956 0.19870235 0.21796431\n",
            " 0.21553122 0.20600162 0.21654501 0.21654501 0.2175588  0.19870235\n",
            " 0.19018654 0.17802109 0.175588   0.16301703 0.16707218 0.17112733\n",
            " 0.17639903 0.18349554 0.1717356  0.16423358 0.16991079 0.17619627\n",
            " 0.16788321 0.16909976 0.17396594 0.17741281 0.18268451 0.19221411\n",
            " 0.18896999 0.19018654 0.17396594 0.17092457 0.16788321 0.17477697\n",
            " 0.16443633 0.14557989 0.15287916 0.15369019 0.15044607 0.14152474\n",
            " 0.15145985 0.13341444 0.12530414 0.11719384 0.11780211 0.12489862\n",
            " 0.14132198 0.13098135 0.12935929 0.13240065 0.12895377 0.12530414\n",
            " 0.13381995 0.14557989 0.15166261 0.15085158 0.14679643 0.14355231\n",
            " 0.12733171 0.14963504 0.14801298 0.15815085 0.16504461 0.15896188\n",
            " 0.16626115 0.1609668  0.16069314 0.15877879 0.15624695 0.15357609\n",
            " 0.1509708  0.14851777 0.14625011 0.14417247 0.14227292 0.14053117\n",
            " 0.13892445 0.13743143 0.13603434 0.13471992]\n",
            "15 day output [[0.13347916]]\n",
            "16 day input [0.1770073  0.18146796 0.18815896 0.20924574 0.19424169 0.18106245\n",
            " 0.18207624 0.1960665  0.17680454 0.18207624 0.18004866 0.18207624\n",
            " 0.18876723 0.19383617 0.19099757 0.19505272 0.19809408 0.20640714\n",
            " 0.19748581 0.19525547 0.20437956 0.19870235 0.21796431 0.21553122\n",
            " 0.20600162 0.21654501 0.21654501 0.2175588  0.19870235 0.19018654\n",
            " 0.17802109 0.175588   0.16301703 0.16707218 0.17112733 0.17639903\n",
            " 0.18349554 0.1717356  0.16423358 0.16991079 0.17619627 0.16788321\n",
            " 0.16909976 0.17396594 0.17741281 0.18268451 0.19221411 0.18896999\n",
            " 0.19018654 0.17396594 0.17092457 0.16788321 0.17477697 0.16443633\n",
            " 0.14557989 0.15287916 0.15369019 0.15044607 0.14152474 0.15145985\n",
            " 0.13341444 0.12530414 0.11719384 0.11780211 0.12489862 0.14132198\n",
            " 0.13098135 0.12935929 0.13240065 0.12895377 0.12530414 0.13381995\n",
            " 0.14557989 0.15166261 0.15085158 0.14679643 0.14355231 0.12733171\n",
            " 0.14963504 0.14801298 0.15815085 0.16504461 0.15896188 0.16626115\n",
            " 0.1609668  0.16069314 0.15877879 0.15624695 0.15357609 0.1509708\n",
            " 0.14851777 0.14625011 0.14417247 0.14227292 0.14053117 0.13892445\n",
            " 0.13743143 0.13603434 0.13471992 0.13347916]\n",
            "16 day output [[0.13230643]]\n",
            "17 day input [0.18146796 0.18815896 0.20924574 0.19424169 0.18106245 0.18207624\n",
            " 0.1960665  0.17680454 0.18207624 0.18004866 0.18207624 0.18876723\n",
            " 0.19383617 0.19099757 0.19505272 0.19809408 0.20640714 0.19748581\n",
            " 0.19525547 0.20437956 0.19870235 0.21796431 0.21553122 0.20600162\n",
            " 0.21654501 0.21654501 0.2175588  0.19870235 0.19018654 0.17802109\n",
            " 0.175588   0.16301703 0.16707218 0.17112733 0.17639903 0.18349554\n",
            " 0.1717356  0.16423358 0.16991079 0.17619627 0.16788321 0.16909976\n",
            " 0.17396594 0.17741281 0.18268451 0.19221411 0.18896999 0.19018654\n",
            " 0.17396594 0.17092457 0.16788321 0.17477697 0.16443633 0.14557989\n",
            " 0.15287916 0.15369019 0.15044607 0.14152474 0.15145985 0.13341444\n",
            " 0.12530414 0.11719384 0.11780211 0.12489862 0.14132198 0.13098135\n",
            " 0.12935929 0.13240065 0.12895377 0.12530414 0.13381995 0.14557989\n",
            " 0.15166261 0.15085158 0.14679643 0.14355231 0.12733171 0.14963504\n",
            " 0.14801298 0.15815085 0.16504461 0.15896188 0.16626115 0.1609668\n",
            " 0.16069314 0.15877879 0.15624695 0.15357609 0.1509708  0.14851777\n",
            " 0.14625011 0.14417247 0.14227292 0.14053117 0.13892445 0.13743143\n",
            " 0.13603434 0.13471992 0.13347916 0.13230643]\n",
            "17 day output [[0.1311986]]\n",
            "18 day input [0.18815896 0.20924574 0.19424169 0.18106245 0.18207624 0.1960665\n",
            " 0.17680454 0.18207624 0.18004866 0.18207624 0.18876723 0.19383617\n",
            " 0.19099757 0.19505272 0.19809408 0.20640714 0.19748581 0.19525547\n",
            " 0.20437956 0.19870235 0.21796431 0.21553122 0.20600162 0.21654501\n",
            " 0.21654501 0.2175588  0.19870235 0.19018654 0.17802109 0.175588\n",
            " 0.16301703 0.16707218 0.17112733 0.17639903 0.18349554 0.1717356\n",
            " 0.16423358 0.16991079 0.17619627 0.16788321 0.16909976 0.17396594\n",
            " 0.17741281 0.18268451 0.19221411 0.18896999 0.19018654 0.17396594\n",
            " 0.17092457 0.16788321 0.17477697 0.16443633 0.14557989 0.15287916\n",
            " 0.15369019 0.15044607 0.14152474 0.15145985 0.13341444 0.12530414\n",
            " 0.11719384 0.11780211 0.12489862 0.14132198 0.13098135 0.12935929\n",
            " 0.13240065 0.12895377 0.12530414 0.13381995 0.14557989 0.15166261\n",
            " 0.15085158 0.14679643 0.14355231 0.12733171 0.14963504 0.14801298\n",
            " 0.15815085 0.16504461 0.15896188 0.16626115 0.1609668  0.16069314\n",
            " 0.15877879 0.15624695 0.15357609 0.1509708  0.14851777 0.14625011\n",
            " 0.14417247 0.14227292 0.14053117 0.13892445 0.13743143 0.13603434\n",
            " 0.13471992 0.13347916 0.13230643 0.1311986 ]\n",
            "18 day output [[0.1301539]]\n",
            "19 day input [0.20924574 0.19424169 0.18106245 0.18207624 0.1960665  0.17680454\n",
            " 0.18207624 0.18004866 0.18207624 0.18876723 0.19383617 0.19099757\n",
            " 0.19505272 0.19809408 0.20640714 0.19748581 0.19525547 0.20437956\n",
            " 0.19870235 0.21796431 0.21553122 0.20600162 0.21654501 0.21654501\n",
            " 0.2175588  0.19870235 0.19018654 0.17802109 0.175588   0.16301703\n",
            " 0.16707218 0.17112733 0.17639903 0.18349554 0.1717356  0.16423358\n",
            " 0.16991079 0.17619627 0.16788321 0.16909976 0.17396594 0.17741281\n",
            " 0.18268451 0.19221411 0.18896999 0.19018654 0.17396594 0.17092457\n",
            " 0.16788321 0.17477697 0.16443633 0.14557989 0.15287916 0.15369019\n",
            " 0.15044607 0.14152474 0.15145985 0.13341444 0.12530414 0.11719384\n",
            " 0.11780211 0.12489862 0.14132198 0.13098135 0.12935929 0.13240065\n",
            " 0.12895377 0.12530414 0.13381995 0.14557989 0.15166261 0.15085158\n",
            " 0.14679643 0.14355231 0.12733171 0.14963504 0.14801298 0.15815085\n",
            " 0.16504461 0.15896188 0.16626115 0.1609668  0.16069314 0.15877879\n",
            " 0.15624695 0.15357609 0.1509708  0.14851777 0.14625011 0.14417247\n",
            " 0.14227292 0.14053117 0.13892445 0.13743143 0.13603434 0.13471992\n",
            " 0.13347916 0.13230643 0.1311986  0.13015389]\n",
            "19 day output [[0.12917107]]\n",
            "20 day input [0.19424169 0.18106245 0.18207624 0.1960665  0.17680454 0.18207624\n",
            " 0.18004866 0.18207624 0.18876723 0.19383617 0.19099757 0.19505272\n",
            " 0.19809408 0.20640714 0.19748581 0.19525547 0.20437956 0.19870235\n",
            " 0.21796431 0.21553122 0.20600162 0.21654501 0.21654501 0.2175588\n",
            " 0.19870235 0.19018654 0.17802109 0.175588   0.16301703 0.16707218\n",
            " 0.17112733 0.17639903 0.18349554 0.1717356  0.16423358 0.16991079\n",
            " 0.17619627 0.16788321 0.16909976 0.17396594 0.17741281 0.18268451\n",
            " 0.19221411 0.18896999 0.19018654 0.17396594 0.17092457 0.16788321\n",
            " 0.17477697 0.16443633 0.14557989 0.15287916 0.15369019 0.15044607\n",
            " 0.14152474 0.15145985 0.13341444 0.12530414 0.11719384 0.11780211\n",
            " 0.12489862 0.14132198 0.13098135 0.12935929 0.13240065 0.12895377\n",
            " 0.12530414 0.13381995 0.14557989 0.15166261 0.15085158 0.14679643\n",
            " 0.14355231 0.12733171 0.14963504 0.14801298 0.15815085 0.16504461\n",
            " 0.15896188 0.16626115 0.1609668  0.16069314 0.15877879 0.15624695\n",
            " 0.15357609 0.1509708  0.14851777 0.14625011 0.14417247 0.14227292\n",
            " 0.14053117 0.13892445 0.13743143 0.13603434 0.13471992 0.13347916\n",
            " 0.13230643 0.1311986  0.13015389 0.12917107]\n",
            "20 day output [[0.12824878]]\n",
            "21 day input [0.18106245 0.18207624 0.1960665  0.17680454 0.18207624 0.18004866\n",
            " 0.18207624 0.18876723 0.19383617 0.19099757 0.19505272 0.19809408\n",
            " 0.20640714 0.19748581 0.19525547 0.20437956 0.19870235 0.21796431\n",
            " 0.21553122 0.20600162 0.21654501 0.21654501 0.2175588  0.19870235\n",
            " 0.19018654 0.17802109 0.175588   0.16301703 0.16707218 0.17112733\n",
            " 0.17639903 0.18349554 0.1717356  0.16423358 0.16991079 0.17619627\n",
            " 0.16788321 0.16909976 0.17396594 0.17741281 0.18268451 0.19221411\n",
            " 0.18896999 0.19018654 0.17396594 0.17092457 0.16788321 0.17477697\n",
            " 0.16443633 0.14557989 0.15287916 0.15369019 0.15044607 0.14152474\n",
            " 0.15145985 0.13341444 0.12530414 0.11719384 0.11780211 0.12489862\n",
            " 0.14132198 0.13098135 0.12935929 0.13240065 0.12895377 0.12530414\n",
            " 0.13381995 0.14557989 0.15166261 0.15085158 0.14679643 0.14355231\n",
            " 0.12733171 0.14963504 0.14801298 0.15815085 0.16504461 0.15896188\n",
            " 0.16626115 0.1609668  0.16069314 0.15877879 0.15624695 0.15357609\n",
            " 0.1509708  0.14851777 0.14625011 0.14417247 0.14227292 0.14053117\n",
            " 0.13892445 0.13743143 0.13603434 0.13471992 0.13347916 0.13230643\n",
            " 0.1311986  0.13015389 0.12917107 0.12824878]\n",
            "21 day output [[0.12738515]]\n",
            "22 day input [0.18207624 0.1960665  0.17680454 0.18207624 0.18004866 0.18207624\n",
            " 0.18876723 0.19383617 0.19099757 0.19505272 0.19809408 0.20640714\n",
            " 0.19748581 0.19525547 0.20437956 0.19870235 0.21796431 0.21553122\n",
            " 0.20600162 0.21654501 0.21654501 0.2175588  0.19870235 0.19018654\n",
            " 0.17802109 0.175588   0.16301703 0.16707218 0.17112733 0.17639903\n",
            " 0.18349554 0.1717356  0.16423358 0.16991079 0.17619627 0.16788321\n",
            " 0.16909976 0.17396594 0.17741281 0.18268451 0.19221411 0.18896999\n",
            " 0.19018654 0.17396594 0.17092457 0.16788321 0.17477697 0.16443633\n",
            " 0.14557989 0.15287916 0.15369019 0.15044607 0.14152474 0.15145985\n",
            " 0.13341444 0.12530414 0.11719384 0.11780211 0.12489862 0.14132198\n",
            " 0.13098135 0.12935929 0.13240065 0.12895377 0.12530414 0.13381995\n",
            " 0.14557989 0.15166261 0.15085158 0.14679643 0.14355231 0.12733171\n",
            " 0.14963504 0.14801298 0.15815085 0.16504461 0.15896188 0.16626115\n",
            " 0.1609668  0.16069314 0.15877879 0.15624695 0.15357609 0.1509708\n",
            " 0.14851777 0.14625011 0.14417247 0.14227292 0.14053117 0.13892445\n",
            " 0.13743143 0.13603434 0.13471992 0.13347916 0.13230643 0.1311986\n",
            " 0.13015389 0.12917107 0.12824878 0.12738515]\n",
            "22 day output [[0.12657765]]\n",
            "23 day input [0.1960665  0.17680454 0.18207624 0.18004866 0.18207624 0.18876723\n",
            " 0.19383617 0.19099757 0.19505272 0.19809408 0.20640714 0.19748581\n",
            " 0.19525547 0.20437956 0.19870235 0.21796431 0.21553122 0.20600162\n",
            " 0.21654501 0.21654501 0.2175588  0.19870235 0.19018654 0.17802109\n",
            " 0.175588   0.16301703 0.16707218 0.17112733 0.17639903 0.18349554\n",
            " 0.1717356  0.16423358 0.16991079 0.17619627 0.16788321 0.16909976\n",
            " 0.17396594 0.17741281 0.18268451 0.19221411 0.18896999 0.19018654\n",
            " 0.17396594 0.17092457 0.16788321 0.17477697 0.16443633 0.14557989\n",
            " 0.15287916 0.15369019 0.15044607 0.14152474 0.15145985 0.13341444\n",
            " 0.12530414 0.11719384 0.11780211 0.12489862 0.14132198 0.13098135\n",
            " 0.12935929 0.13240065 0.12895377 0.12530414 0.13381995 0.14557989\n",
            " 0.15166261 0.15085158 0.14679643 0.14355231 0.12733171 0.14963504\n",
            " 0.14801298 0.15815085 0.16504461 0.15896188 0.16626115 0.1609668\n",
            " 0.16069314 0.15877879 0.15624695 0.15357609 0.1509708  0.14851777\n",
            " 0.14625011 0.14417247 0.14227292 0.14053117 0.13892445 0.13743143\n",
            " 0.13603434 0.13471992 0.13347916 0.13230643 0.1311986  0.13015389\n",
            " 0.12917107 0.12824878 0.12738515 0.12657765]\n",
            "23 day output [[0.12582292]]\n",
            "24 day input [0.17680454 0.18207624 0.18004866 0.18207624 0.18876723 0.19383617\n",
            " 0.19099757 0.19505272 0.19809408 0.20640714 0.19748581 0.19525547\n",
            " 0.20437956 0.19870235 0.21796431 0.21553122 0.20600162 0.21654501\n",
            " 0.21654501 0.2175588  0.19870235 0.19018654 0.17802109 0.175588\n",
            " 0.16301703 0.16707218 0.17112733 0.17639903 0.18349554 0.1717356\n",
            " 0.16423358 0.16991079 0.17619627 0.16788321 0.16909976 0.17396594\n",
            " 0.17741281 0.18268451 0.19221411 0.18896999 0.19018654 0.17396594\n",
            " 0.17092457 0.16788321 0.17477697 0.16443633 0.14557989 0.15287916\n",
            " 0.15369019 0.15044607 0.14152474 0.15145985 0.13341444 0.12530414\n",
            " 0.11719384 0.11780211 0.12489862 0.14132198 0.13098135 0.12935929\n",
            " 0.13240065 0.12895377 0.12530414 0.13381995 0.14557989 0.15166261\n",
            " 0.15085158 0.14679643 0.14355231 0.12733171 0.14963504 0.14801298\n",
            " 0.15815085 0.16504461 0.15896188 0.16626115 0.1609668  0.16069314\n",
            " 0.15877879 0.15624695 0.15357609 0.1509708  0.14851777 0.14625011\n",
            " 0.14417247 0.14227292 0.14053117 0.13892445 0.13743143 0.13603434\n",
            " 0.13471992 0.13347916 0.13230643 0.1311986  0.13015389 0.12917107\n",
            " 0.12824878 0.12738515 0.12657765 0.12582292]\n",
            "24 day output [[0.12511721]]\n",
            "25 day input [0.18207624 0.18004866 0.18207624 0.18876723 0.19383617 0.19099757\n",
            " 0.19505272 0.19809408 0.20640714 0.19748581 0.19525547 0.20437956\n",
            " 0.19870235 0.21796431 0.21553122 0.20600162 0.21654501 0.21654501\n",
            " 0.2175588  0.19870235 0.19018654 0.17802109 0.175588   0.16301703\n",
            " 0.16707218 0.17112733 0.17639903 0.18349554 0.1717356  0.16423358\n",
            " 0.16991079 0.17619627 0.16788321 0.16909976 0.17396594 0.17741281\n",
            " 0.18268451 0.19221411 0.18896999 0.19018654 0.17396594 0.17092457\n",
            " 0.16788321 0.17477697 0.16443633 0.14557989 0.15287916 0.15369019\n",
            " 0.15044607 0.14152474 0.15145985 0.13341444 0.12530414 0.11719384\n",
            " 0.11780211 0.12489862 0.14132198 0.13098135 0.12935929 0.13240065\n",
            " 0.12895377 0.12530414 0.13381995 0.14557989 0.15166261 0.15085158\n",
            " 0.14679643 0.14355231 0.12733171 0.14963504 0.14801298 0.15815085\n",
            " 0.16504461 0.15896188 0.16626115 0.1609668  0.16069314 0.15877879\n",
            " 0.15624695 0.15357609 0.1509708  0.14851777 0.14625011 0.14417247\n",
            " 0.14227292 0.14053117 0.13892445 0.13743143 0.13603434 0.13471992\n",
            " 0.13347916 0.13230643 0.1311986  0.13015389 0.12917107 0.12824878\n",
            " 0.12738515 0.12657765 0.12582292 0.12511721]\n",
            "25 day output [[0.12445618]]\n",
            "26 day input [0.18004866 0.18207624 0.18876723 0.19383617 0.19099757 0.19505272\n",
            " 0.19809408 0.20640714 0.19748581 0.19525547 0.20437956 0.19870235\n",
            " 0.21796431 0.21553122 0.20600162 0.21654501 0.21654501 0.2175588\n",
            " 0.19870235 0.19018654 0.17802109 0.175588   0.16301703 0.16707218\n",
            " 0.17112733 0.17639903 0.18349554 0.1717356  0.16423358 0.16991079\n",
            " 0.17619627 0.16788321 0.16909976 0.17396594 0.17741281 0.18268451\n",
            " 0.19221411 0.18896999 0.19018654 0.17396594 0.17092457 0.16788321\n",
            " 0.17477697 0.16443633 0.14557989 0.15287916 0.15369019 0.15044607\n",
            " 0.14152474 0.15145985 0.13341444 0.12530414 0.11719384 0.11780211\n",
            " 0.12489862 0.14132198 0.13098135 0.12935929 0.13240065 0.12895377\n",
            " 0.12530414 0.13381995 0.14557989 0.15166261 0.15085158 0.14679643\n",
            " 0.14355231 0.12733171 0.14963504 0.14801298 0.15815085 0.16504461\n",
            " 0.15896188 0.16626115 0.1609668  0.16069314 0.15877879 0.15624695\n",
            " 0.15357609 0.1509708  0.14851777 0.14625011 0.14417247 0.14227292\n",
            " 0.14053117 0.13892445 0.13743143 0.13603434 0.13471992 0.13347916\n",
            " 0.13230643 0.1311986  0.13015389 0.12917107 0.12824878 0.12738515\n",
            " 0.12657765 0.12582292 0.12511721 0.12445618]\n",
            "26 day output [[0.12383542]]\n",
            "27 day input [0.18207624 0.18876723 0.19383617 0.19099757 0.19505272 0.19809408\n",
            " 0.20640714 0.19748581 0.19525547 0.20437956 0.19870235 0.21796431\n",
            " 0.21553122 0.20600162 0.21654501 0.21654501 0.2175588  0.19870235\n",
            " 0.19018654 0.17802109 0.175588   0.16301703 0.16707218 0.17112733\n",
            " 0.17639903 0.18349554 0.1717356  0.16423358 0.16991079 0.17619627\n",
            " 0.16788321 0.16909976 0.17396594 0.17741281 0.18268451 0.19221411\n",
            " 0.18896999 0.19018654 0.17396594 0.17092457 0.16788321 0.17477697\n",
            " 0.16443633 0.14557989 0.15287916 0.15369019 0.15044607 0.14152474\n",
            " 0.15145985 0.13341444 0.12530414 0.11719384 0.11780211 0.12489862\n",
            " 0.14132198 0.13098135 0.12935929 0.13240065 0.12895377 0.12530414\n",
            " 0.13381995 0.14557989 0.15166261 0.15085158 0.14679643 0.14355231\n",
            " 0.12733171 0.14963504 0.14801298 0.15815085 0.16504461 0.15896188\n",
            " 0.16626115 0.1609668  0.16069314 0.15877879 0.15624695 0.15357609\n",
            " 0.1509708  0.14851777 0.14625011 0.14417247 0.14227292 0.14053117\n",
            " 0.13892445 0.13743143 0.13603434 0.13471992 0.13347916 0.13230643\n",
            " 0.1311986  0.13015389 0.12917107 0.12824878 0.12738515 0.12657765\n",
            " 0.12582292 0.12511721 0.12445618 0.12383542]\n",
            "27 day output [[0.12325051]]\n",
            "28 day input [0.18876723 0.19383617 0.19099757 0.19505272 0.19809408 0.20640714\n",
            " 0.19748581 0.19525547 0.20437956 0.19870235 0.21796431 0.21553122\n",
            " 0.20600162 0.21654501 0.21654501 0.2175588  0.19870235 0.19018654\n",
            " 0.17802109 0.175588   0.16301703 0.16707218 0.17112733 0.17639903\n",
            " 0.18349554 0.1717356  0.16423358 0.16991079 0.17619627 0.16788321\n",
            " 0.16909976 0.17396594 0.17741281 0.18268451 0.19221411 0.18896999\n",
            " 0.19018654 0.17396594 0.17092457 0.16788321 0.17477697 0.16443633\n",
            " 0.14557989 0.15287916 0.15369019 0.15044607 0.14152474 0.15145985\n",
            " 0.13341444 0.12530414 0.11719384 0.11780211 0.12489862 0.14132198\n",
            " 0.13098135 0.12935929 0.13240065 0.12895377 0.12530414 0.13381995\n",
            " 0.14557989 0.15166261 0.15085158 0.14679643 0.14355231 0.12733171\n",
            " 0.14963504 0.14801298 0.15815085 0.16504461 0.15896188 0.16626115\n",
            " 0.1609668  0.16069314 0.15877879 0.15624695 0.15357609 0.1509708\n",
            " 0.14851777 0.14625011 0.14417247 0.14227292 0.14053117 0.13892445\n",
            " 0.13743143 0.13603434 0.13471992 0.13347916 0.13230643 0.1311986\n",
            " 0.13015389 0.12917107 0.12824878 0.12738515 0.12657765 0.12582292\n",
            " 0.12511721 0.12445618 0.12383542 0.12325051]\n",
            "28 day output [[0.1226972]]\n",
            "29 day input [0.19383617 0.19099757 0.19505272 0.19809408 0.20640714 0.19748581\n",
            " 0.19525547 0.20437956 0.19870235 0.21796431 0.21553122 0.20600162\n",
            " 0.21654501 0.21654501 0.2175588  0.19870235 0.19018654 0.17802109\n",
            " 0.175588   0.16301703 0.16707218 0.17112733 0.17639903 0.18349554\n",
            " 0.1717356  0.16423358 0.16991079 0.17619627 0.16788321 0.16909976\n",
            " 0.17396594 0.17741281 0.18268451 0.19221411 0.18896999 0.19018654\n",
            " 0.17396594 0.17092457 0.16788321 0.17477697 0.16443633 0.14557989\n",
            " 0.15287916 0.15369019 0.15044607 0.14152474 0.15145985 0.13341444\n",
            " 0.12530414 0.11719384 0.11780211 0.12489862 0.14132198 0.13098135\n",
            " 0.12935929 0.13240065 0.12895377 0.12530414 0.13381995 0.14557989\n",
            " 0.15166261 0.15085158 0.14679643 0.14355231 0.12733171 0.14963504\n",
            " 0.14801298 0.15815085 0.16504461 0.15896188 0.16626115 0.1609668\n",
            " 0.16069314 0.15877879 0.15624695 0.15357609 0.1509708  0.14851777\n",
            " 0.14625011 0.14417247 0.14227292 0.14053117 0.13892445 0.13743143\n",
            " 0.13603434 0.13471992 0.13347916 0.13230643 0.1311986  0.13015389\n",
            " 0.12917107 0.12824878 0.12738515 0.12657765 0.12582292 0.12511721\n",
            " 0.12445618 0.12383542 0.12325051 0.1226972 ]\n",
            "29 day output [[0.12217154]]\n",
            "[[0.16096679866313934], [0.16069313883781433], [0.15877878665924072], [0.15624694526195526], [0.1535760909318924], [0.15097080171108246], [0.14851777255535126], [0.14625011384487152], [0.14417247474193573], [0.1422729194164276], [0.14053116738796234], [0.13892444968223572], [0.13743142783641815], [0.13603433966636658], [0.13471992313861847], [0.13347916305065155], [0.13230642676353455], [0.13119859993457794], [0.13015389442443848], [0.12917107343673706], [0.12824878096580505], [0.12738515436649323], [0.12657764554023743], [0.12582291662693024], [0.1251172125339508], [0.12445618212223053], [0.12383542209863663], [0.12325050681829453], [0.12269720435142517], [0.12217153608798981]]\n"
          ]
        }
      ]
    },
    {
      "cell_type": "code",
      "metadata": {
        "id": "NpnSd2ry5V2D"
      },
      "source": [
        "# for plotting the results \n",
        "\n",
        "day_new=np.arange(1,101)\n",
        "day_pred=np.arange(101,131)"
      ],
      "execution_count": 29,
      "outputs": []
    },
    {
      "cell_type": "code",
      "metadata": {
        "colab": {
          "base_uri": "https://localhost:8080/",
          "height": 282
        },
        "id": "nxmMXa8E5uWM",
        "outputId": "c922fea2-4ad0-4ca1-c3c0-53763e51ff96"
      },
      "source": [
        "len(df)\n",
        "plt.plot(day_new,scaler.inverse_transform(df[1935:]))\n",
        "plt.plot(day_pred,scaler.inverse_transform(lst_output))"
      ],
      "execution_count": 30,
      "outputs": [
        {
          "output_type": "execute_result",
          "data": {
            "text/plain": [
              "[<matplotlib.lines.Line2D at 0x7fca38063c50>]"
            ]
          },
          "metadata": {},
          "execution_count": 30
        },
        {
          "output_type": "display_data",
          "data": {
            "image/png": "[encoded data removed]",
            "text/plain": [
              "<Figure size 432x288 with 1 Axes>"
            ]
          },
          "metadata": {
            "needs_background": "light"
          }
        }
      ]
    },
    {
      "cell_type": "code",
      "metadata": {
        "colab": {
          "base_uri": "https://localhost:8080/",
          "height": 282
        },
        "id": "ep_Y_1BY7Cn9",
        "outputId": "53d90f3b-ae25-46c6-b264-ab91e0fc2a08"
      },
      "source": [
        "# to get better visualization: -\n",
        "\n",
        "df_b=df.tolist()\n",
        "df_b.extend(lst_output)\n",
        "plt.plot(df_b[1900:])"
      ],
      "execution_count": 31,
      "outputs": [
        {
          "output_type": "execute_result",
          "data": {
            "text/plain": [
              "[<matplotlib.lines.Line2D at 0x7fca34f5e3d0>]"
            ]
          },
          "metadata": {},
          "execution_count": 31
        },
        {
          "output_type": "display_data",
          "data": {
            "image/png": "[encoded data removed]",
            "text/plain": [
              "<Figure size 432x288 with 1 Axes>"
            ]
          },
          "metadata": {
            "needs_background": "light"
          }
        }
      ]
    }
  ]
}